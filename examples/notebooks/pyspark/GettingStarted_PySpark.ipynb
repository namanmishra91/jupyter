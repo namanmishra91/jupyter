{
  "metadata": {
    "language_info": {
      "name": "pyspark",
      "mimetype": "text/x-python",
      "codemirror_mode": {
        "name": "python",
        "version": 2
      },
      "pygments_lexer": "python2"
    },
    "kernelspec": {
      "name": "pysparkkernel",
      "display_name": "PySpark",
      "language": ""
    },
    "qubole": {
      "session_data": {
        "id": 0,
        "spark_ui_url": "https://qdemo.qubole.net/cluster-proxy?encodedUrl=http://10.30.217.101:8088/proxy/application_1565152906433_0001/",
        "driver_log_url": "https://qdemo.qubole.net/cluster-proxy?encodedUrl=http://10.157.163.4:8042/node/containerlogs/container_1565152906433_0001_01_000001/yarn"
      }
    }
  },
  "nbformat_minor": 4,
  "nbformat": 4,
  "cells": [
    {
      "cell_type": "code",
      "source": "sc.version",
      "metadata": {
        "qubole": {
          "execution_info": {
            "started_at": "2019-08-07T04:55:56.776409Z",
            "ended_at": "2019-08-07T04:57:04.883377Z",
            "user_email": "balamurugan@qubole.com",
            "cluster": "spark-s3"
          }
        },
        "trusted": true
      },
      "execution_count": 1,
      "outputs": [
        {
          "name": "stdout",
          "text": "Starting Spark application\n",
          "output_type": "stream"
        },
        {
          "output_type": "display_data",
          "data": {
            "text/plain": "<IPython.core.display.HTML object>",
            "text/html": "<table>\n<tr><th>ID</th><th>YARN Application ID</th><th>Kind</th><th>State</th><th>Spark UI</th><th>Driver log</th><th>Current session?</th></tr><tr><td>0</td><td>application_1565152906433_0001</td><td>pyspark</td><td>idle</td><td><a class=\"jpq-ui-links\" data-url=\"https://qdemo.qubole.net/cluster-proxy?encodedUrl=http://10.30.217.101:8088/proxy/application_1565152906433_0001/\" data-action=\"spark-ui:open\" href=\"javascript:void(0)\">Link</a></td><td><a class=\"jpq-ui-links\" data-url=\"https://qdemo.qubole.net/cluster-proxy?encodedUrl=http://10.157.163.4:8042/node/containerlogs/container_1565152906433_0001_01_000001/yarn\" data-action=\"driver-log:open\" href=\"javascript:void(0)\">Link</a></td><td>✔</td></tr></table>"
          },
          "metadata": {
            
          }
        },
        {
          "name": "stdout",
          "text": "SparkSession available as 'spark'.\n",
          "output_type": "stream"
        },
        {
          "output_type": "display_data",
          "data": {
            "text/plain": "<IPython.core.display.HTML object>",
            "text/html": "<div class=\"progress-ipython-shell\"></div>"
          },
          "metadata": {
            
          }
        },
        {
          "name": "stdout",
          "text": "u'2.3.2'",
          "output_type": "stream"
        }
      ]
    },
    {
      "cell_type": "code",
      "source": "",
      "metadata": {
        
      },
      "execution_count": null,
      "outputs": [
        
      ]
    }
  ]
}
