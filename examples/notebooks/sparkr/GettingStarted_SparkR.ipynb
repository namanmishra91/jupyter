
  "metadata": {
    "language_info": {
      "name": "sparkR",
      "mimetype": "text/x-rsrc",
      "codemirror_mode": "text/x-rsrc",
      "pygments_lexer": "r"
    },
    "kernelspec": {
      "name": "sparkrkernel",
      "display_name": "SparkR",
      "language": ""
    },
    "qubole": {
      "session_data": {
        "id": 0,
        "spark_ui_url": "https://qdemo.qubole.net/cluster-proxy?encodedUrl=http://10.30.217.101:8088/proxy/application_1565152906433_0001/",
        "driver_log_url": "https://qdemo.qubole.net/cluster-proxy?encodedUrl=http://10.157.163.4:8042/node/containerlogs/container_1565152906433_0001_01_000001/yarn"
      }
    }
  },
  "nbformat_minor": 4,
  "nbformat": 4,
  "cells": [
    {
      "cell_type": "code",
      "source": "sparkR.session()",
      "metadata": {
        "qubole": {
          "execution_info": {
            "started_at": "2019-08-07T05:07:31.110226Z",
            "ended_at": "2019-08-07T05:07:31.234452Z",
            "user_email": "balamurugan@qubole.com",
            "cluster": "spark-s3"
          }
        },
        "trusted": true
      },
      "execution_count": 4,
      "outputs": [
        {
          "output_type": "display_data",
          "data": {
            "text/plain": "<IPython.core.display.HTML object>",
            "text/html": "<div class=\"progress-ipython-shell\"></div>"
          },
          "metadata": {
            
          }
        },
        {
          "name": "stdout",
          "text": "Java ref type org.apache.spark.sql.SparkSession id 1 ",
          "output_type": "stream"
        }
      ]
    },
    {
      "cell_type": "code",
      "source": "",
      "metadata": {
        
      },
      "execution_count": null,
      "outputs": [
        
      ]
    }
  ]
}
